{
  "nbformat": 4,
  "nbformat_minor": 0,
  "metadata": {
    "colab": {
      "provenance": [],
      "authorship_tag": "ABX9TyMmE89EV4IjFrHg2g57M7DY",
      "include_colab_link": true
    },
    "kernelspec": {
      "name": "python3",
      "display_name": "Python 3"
    },
    "language_info": {
      "name": "python"
    }
  },
  "cells": [
    {
      "cell_type": "markdown",
      "metadata": {
        "id": "view-in-github",
        "colab_type": "text"
      },
      "source": [
        "<a href=\"https://colab.research.google.com/github/tomas-pinheiro/tomas-pinheiro/blob/main/Projeto1.ipynb\" target=\"_parent\"><img src=\"https://colab.research.google.com/assets/colab-badge.svg\" alt=\"Open In Colab\"/></a>"
      ]
    },
    {
      "cell_type": "markdown",
      "source": [
        "##**Case prático Startups \"Unicórnios\"**\n",
        "\n"
      ],
      "metadata": {
        "id": "OBX-XoybsGmW"
      }
    },
    {
      "cell_type": "markdown",
      "source": [
        "https://www.kaggle.com/datasets/ramjasmaurya/unicorn-startups?resource=download"
      ],
      "metadata": {
        "id": "GyNyKGejsXUG"
      }
    },
    {
      "cell_type": "code",
      "source": [
        "import numpy as np\n",
        "import pandas as pd\n",
        "import matplotlib.pyplot as plt\n",
        "import seaborn as sns"
      ],
      "metadata": {
        "id": "b-wW_OGXsaUu"
      },
      "execution_count": 3,
      "outputs": []
    },
    {
      "cell_type": "code",
      "source": [
        "base_dados = pd.read_csv('unicorns till sep 2022.csv')"
      ],
      "metadata": {
        "id": "6rweg-SKsaL2"
      },
      "execution_count": 4,
      "outputs": []
    },
    {
      "cell_type": "code",
      "source": [
        "base_dados.shape"
      ],
      "metadata": {
        "colab": {
          "base_uri": "https://localhost:8080/"
        },
        "id": "BF2X3vOWsZ7m",
        "outputId": "440e2ca4-524e-431a-8c87-3225d0881c18"
      },
      "execution_count": 5,
      "outputs": [
        {
          "output_type": "execute_result",
          "data": {
            "text/plain": [
              "(1186, 7)"
            ]
          },
          "metadata": {},
          "execution_count": 5
        }
      ]
    },
    {
      "cell_type": "code",
      "source": [
        "# Primeiros 10 registros\n",
        "base_dados.head(n=10)"
      ],
      "metadata": {
        "colab": {
          "base_uri": "https://localhost:8080/",
          "height": 407
        },
        "id": "oKAJB-O4tSzC",
        "outputId": "f142135a-687b-40cc-f450-8d760ab18dff"
      },
      "execution_count": 28,
      "outputs": [
        {
          "output_type": "execute_result",
          "data": {
            "text/plain": [
              "        Empresa  Valor($) Data de Adesão            Pais          City   \\\n",
              "0     ByteDance     140.0     2017-04-07           China        Beijing   \n",
              "1        SpaceX     127.0     2012-12-01   United States      Hawthorne   \n",
              "2         SHEIN     100.0     2018-07-03           China       Shenzhen   \n",
              "3        Stripe      95.0     2014-01-23   United States  San Francisco   \n",
              "4         Canva      40.0     2018-01-08       Australia    Surry Hills   \n",
              "5  Checkout.com      40.0     2019-05-02  United Kingdom         London   \n",
              "6     Instacart      39.0     2014-12-30   United States  San Francisco   \n",
              "7    Databricks      38.0     2019-02-05   United States  San Francisco   \n",
              "8       Revolut      33.0     2018-04-26  United Kingdom         London   \n",
              "9    Epic Games      31.5     2018-10-26   United States           Cary   \n",
              "\n",
              "                                 Setor  \\\n",
              "0              Artificial intelligence   \n",
              "1                                Other   \n",
              "2      E-commerce & direct-to-consumer   \n",
              "3                              Fintech   \n",
              "4         Internet software & services   \n",
              "5                              Fintech   \n",
              "6  Supply chain, logistics, & delivery   \n",
              "7          Data management & analytics   \n",
              "8                              Fintech   \n",
              "9                                Other   \n",
              "\n",
              "                                        Investidores  Mes   Ano  \n",
              "0  Sequoia Capital China, SIG Asia Investments, S...    4  2017  \n",
              "1  Founders Fund, Draper Fisher Jurvetson, Rothen...   12  2012  \n",
              "2  Tiger Global Management, Sequoia Capital China...    7  2018  \n",
              "3        Khosla Ventures, LowercaseCapital, capitalG    1  2014  \n",
              "4  Sequoia Capital China, Blackbird Ventures, Mat...    1  2018  \n",
              "5  Tiger Global Management, Insight Partners, DST...    5  2019  \n",
              "6  Khosla Ventures, Kleiner Perkins Caufield & By...   12  2014  \n",
              "7  Andreessen Horowitz, New Enterprise Associates...    2  2019  \n",
              "8         index Ventures, DST Global, Ribbit Capital    4  2018  \n",
              "9              Tencent Holdings, KKR, Smash Ventures   10  2018  "
            ],
            "text/html": [
              "\n",
              "  <div id=\"df-cd4927de-b226-443b-900e-942fa12ea352\">\n",
              "    <div class=\"colab-df-container\">\n",
              "      <div>\n",
              "<style scoped>\n",
              "    .dataframe tbody tr th:only-of-type {\n",
              "        vertical-align: middle;\n",
              "    }\n",
              "\n",
              "    .dataframe tbody tr th {\n",
              "        vertical-align: top;\n",
              "    }\n",
              "\n",
              "    .dataframe thead th {\n",
              "        text-align: right;\n",
              "    }\n",
              "</style>\n",
              "<table border=\"1\" class=\"dataframe\">\n",
              "  <thead>\n",
              "    <tr style=\"text-align: right;\">\n",
              "      <th></th>\n",
              "      <th>Empresa</th>\n",
              "      <th>Valor($)</th>\n",
              "      <th>Data de Adesão</th>\n",
              "      <th>Pais</th>\n",
              "      <th>City</th>\n",
              "      <th>Setor</th>\n",
              "      <th>Investidores</th>\n",
              "      <th>Mes</th>\n",
              "      <th>Ano</th>\n",
              "    </tr>\n",
              "  </thead>\n",
              "  <tbody>\n",
              "    <tr>\n",
              "      <th>0</th>\n",
              "      <td>ByteDance</td>\n",
              "      <td>140.0</td>\n",
              "      <td>2017-04-07</td>\n",
              "      <td>China</td>\n",
              "      <td>Beijing</td>\n",
              "      <td>Artificial intelligence</td>\n",
              "      <td>Sequoia Capital China, SIG Asia Investments, S...</td>\n",
              "      <td>4</td>\n",
              "      <td>2017</td>\n",
              "    </tr>\n",
              "    <tr>\n",
              "      <th>1</th>\n",
              "      <td>SpaceX</td>\n",
              "      <td>127.0</td>\n",
              "      <td>2012-12-01</td>\n",
              "      <td>United States</td>\n",
              "      <td>Hawthorne</td>\n",
              "      <td>Other</td>\n",
              "      <td>Founders Fund, Draper Fisher Jurvetson, Rothen...</td>\n",
              "      <td>12</td>\n",
              "      <td>2012</td>\n",
              "    </tr>\n",
              "    <tr>\n",
              "      <th>2</th>\n",
              "      <td>SHEIN</td>\n",
              "      <td>100.0</td>\n",
              "      <td>2018-07-03</td>\n",
              "      <td>China</td>\n",
              "      <td>Shenzhen</td>\n",
              "      <td>E-commerce &amp; direct-to-consumer</td>\n",
              "      <td>Tiger Global Management, Sequoia Capital China...</td>\n",
              "      <td>7</td>\n",
              "      <td>2018</td>\n",
              "    </tr>\n",
              "    <tr>\n",
              "      <th>3</th>\n",
              "      <td>Stripe</td>\n",
              "      <td>95.0</td>\n",
              "      <td>2014-01-23</td>\n",
              "      <td>United States</td>\n",
              "      <td>San Francisco</td>\n",
              "      <td>Fintech</td>\n",
              "      <td>Khosla Ventures, LowercaseCapital, capitalG</td>\n",
              "      <td>1</td>\n",
              "      <td>2014</td>\n",
              "    </tr>\n",
              "    <tr>\n",
              "      <th>4</th>\n",
              "      <td>Canva</td>\n",
              "      <td>40.0</td>\n",
              "      <td>2018-01-08</td>\n",
              "      <td>Australia</td>\n",
              "      <td>Surry Hills</td>\n",
              "      <td>Internet software &amp; services</td>\n",
              "      <td>Sequoia Capital China, Blackbird Ventures, Mat...</td>\n",
              "      <td>1</td>\n",
              "      <td>2018</td>\n",
              "    </tr>\n",
              "    <tr>\n",
              "      <th>5</th>\n",
              "      <td>Checkout.com</td>\n",
              "      <td>40.0</td>\n",
              "      <td>2019-05-02</td>\n",
              "      <td>United Kingdom</td>\n",
              "      <td>London</td>\n",
              "      <td>Fintech</td>\n",
              "      <td>Tiger Global Management, Insight Partners, DST...</td>\n",
              "      <td>5</td>\n",
              "      <td>2019</td>\n",
              "    </tr>\n",
              "    <tr>\n",
              "      <th>6</th>\n",
              "      <td>Instacart</td>\n",
              "      <td>39.0</td>\n",
              "      <td>2014-12-30</td>\n",
              "      <td>United States</td>\n",
              "      <td>San Francisco</td>\n",
              "      <td>Supply chain, logistics, &amp; delivery</td>\n",
              "      <td>Khosla Ventures, Kleiner Perkins Caufield &amp; By...</td>\n",
              "      <td>12</td>\n",
              "      <td>2014</td>\n",
              "    </tr>\n",
              "    <tr>\n",
              "      <th>7</th>\n",
              "      <td>Databricks</td>\n",
              "      <td>38.0</td>\n",
              "      <td>2019-02-05</td>\n",
              "      <td>United States</td>\n",
              "      <td>San Francisco</td>\n",
              "      <td>Data management &amp; analytics</td>\n",
              "      <td>Andreessen Horowitz, New Enterprise Associates...</td>\n",
              "      <td>2</td>\n",
              "      <td>2019</td>\n",
              "    </tr>\n",
              "    <tr>\n",
              "      <th>8</th>\n",
              "      <td>Revolut</td>\n",
              "      <td>33.0</td>\n",
              "      <td>2018-04-26</td>\n",
              "      <td>United Kingdom</td>\n",
              "      <td>London</td>\n",
              "      <td>Fintech</td>\n",
              "      <td>index Ventures, DST Global, Ribbit Capital</td>\n",
              "      <td>4</td>\n",
              "      <td>2018</td>\n",
              "    </tr>\n",
              "    <tr>\n",
              "      <th>9</th>\n",
              "      <td>Epic Games</td>\n",
              "      <td>31.5</td>\n",
              "      <td>2018-10-26</td>\n",
              "      <td>United States</td>\n",
              "      <td>Cary</td>\n",
              "      <td>Other</td>\n",
              "      <td>Tencent Holdings, KKR, Smash Ventures</td>\n",
              "      <td>10</td>\n",
              "      <td>2018</td>\n",
              "    </tr>\n",
              "  </tbody>\n",
              "</table>\n",
              "</div>\n",
              "      <button class=\"colab-df-convert\" onclick=\"convertToInteractive('df-cd4927de-b226-443b-900e-942fa12ea352')\"\n",
              "              title=\"Convert this dataframe to an interactive table.\"\n",
              "              style=\"display:none;\">\n",
              "        \n",
              "  <svg xmlns=\"http://www.w3.org/2000/svg\" height=\"24px\"viewBox=\"0 0 24 24\"\n",
              "       width=\"24px\">\n",
              "    <path d=\"M0 0h24v24H0V0z\" fill=\"none\"/>\n",
              "    <path d=\"M18.56 5.44l.94 2.06.94-2.06 2.06-.94-2.06-.94-.94-2.06-.94 2.06-2.06.94zm-11 1L8.5 8.5l.94-2.06 2.06-.94-2.06-.94L8.5 2.5l-.94 2.06-2.06.94zm10 10l.94 2.06.94-2.06 2.06-.94-2.06-.94-.94-2.06-.94 2.06-2.06.94z\"/><path d=\"M17.41 7.96l-1.37-1.37c-.4-.4-.92-.59-1.43-.59-.52 0-1.04.2-1.43.59L10.3 9.45l-7.72 7.72c-.78.78-.78 2.05 0 2.83L4 21.41c.39.39.9.59 1.41.59.51 0 1.02-.2 1.41-.59l7.78-7.78 2.81-2.81c.8-.78.8-2.07 0-2.86zM5.41 20L4 18.59l7.72-7.72 1.47 1.35L5.41 20z\"/>\n",
              "  </svg>\n",
              "      </button>\n",
              "      \n",
              "  <style>\n",
              "    .colab-df-container {\n",
              "      display:flex;\n",
              "      flex-wrap:wrap;\n",
              "      gap: 12px;\n",
              "    }\n",
              "\n",
              "    .colab-df-convert {\n",
              "      background-color: #E8F0FE;\n",
              "      border: none;\n",
              "      border-radius: 50%;\n",
              "      cursor: pointer;\n",
              "      display: none;\n",
              "      fill: #1967D2;\n",
              "      height: 32px;\n",
              "      padding: 0 0 0 0;\n",
              "      width: 32px;\n",
              "    }\n",
              "\n",
              "    .colab-df-convert:hover {\n",
              "      background-color: #E2EBFA;\n",
              "      box-shadow: 0px 1px 2px rgba(60, 64, 67, 0.3), 0px 1px 3px 1px rgba(60, 64, 67, 0.15);\n",
              "      fill: #174EA6;\n",
              "    }\n",
              "\n",
              "    [theme=dark] .colab-df-convert {\n",
              "      background-color: #3B4455;\n",
              "      fill: #D2E3FC;\n",
              "    }\n",
              "\n",
              "    [theme=dark] .colab-df-convert:hover {\n",
              "      background-color: #434B5C;\n",
              "      box-shadow: 0px 1px 3px 1px rgba(0, 0, 0, 0.15);\n",
              "      filter: drop-shadow(0px 1px 2px rgba(0, 0, 0, 0.3));\n",
              "      fill: #FFFFFF;\n",
              "    }\n",
              "  </style>\n",
              "\n",
              "      <script>\n",
              "        const buttonEl =\n",
              "          document.querySelector('#df-cd4927de-b226-443b-900e-942fa12ea352 button.colab-df-convert');\n",
              "        buttonEl.style.display =\n",
              "          google.colab.kernel.accessAllowed ? 'block' : 'none';\n",
              "\n",
              "        async function convertToInteractive(key) {\n",
              "          const element = document.querySelector('#df-cd4927de-b226-443b-900e-942fa12ea352');\n",
              "          const dataTable =\n",
              "            await google.colab.kernel.invokeFunction('convertToInteractive',\n",
              "                                                     [key], {});\n",
              "          if (!dataTable) return;\n",
              "\n",
              "          const docLinkHtml = 'Like what you see? Visit the ' +\n",
              "            '<a target=\"_blank\" href=https://colab.research.google.com/notebooks/data_table.ipynb>data table notebook</a>'\n",
              "            + ' to learn more about interactive tables.';\n",
              "          element.innerHTML = '';\n",
              "          dataTable['output_type'] = 'display_data';\n",
              "          await google.colab.output.renderOutput(dataTable, element);\n",
              "          const docLink = document.createElement('div');\n",
              "          docLink.innerHTML = docLinkHtml;\n",
              "          element.appendChild(docLink);\n",
              "        }\n",
              "      </script>\n",
              "    </div>\n",
              "  </div>\n",
              "  "
            ]
          },
          "metadata": {},
          "execution_count": 28
        }
      ]
    },
    {
      "cell_type": "code",
      "source": [
        "base_dados.columns"
      ],
      "metadata": {
        "colab": {
          "base_uri": "https://localhost:8080/"
        },
        "id": "aSPtsnexuw_A",
        "outputId": "8ffa93ba-776f-477e-c3e6-bf065a181852"
      },
      "execution_count": 7,
      "outputs": [
        {
          "output_type": "execute_result",
          "data": {
            "text/plain": [
              "Index(['Company', 'Valuation ($B)', 'Date Joined', 'Country', 'City ',\n",
              "       'Industry', 'Investors'],\n",
              "      dtype='object')"
            ]
          },
          "metadata": {},
          "execution_count": 7
        }
      ]
    },
    {
      "cell_type": "code",
      "source": [
        "base_dados.rename(columns={\n",
        "    'Unamed : 0' : 'Id',\n",
        "    'Company' : 'Empresa', \n",
        "    'Valuation ($B)' : 'Valor($)', \n",
        "    'Date Joined' : 'Data de Adesão', \n",
        "    'Country' : 'Pais', \n",
        "    'City' : 'Cidade', \n",
        "    'Industry' : 'Setor', \n",
        "    'Investors' : 'Investidores',\n",
        "}, inplace=True)"
      ],
      "metadata": {
        "id": "53EMMdszuw52"
      },
      "execution_count": 8,
      "outputs": []
    },
    {
      "cell_type": "code",
      "source": [
        "# Verificar tipo da informação"
      ],
      "metadata": {
        "id": "iGWn-LvVuw0X"
      },
      "execution_count": 9,
      "outputs": []
    },
    {
      "cell_type": "code",
      "source": [
        "base_dados.info()"
      ],
      "metadata": {
        "colab": {
          "base_uri": "https://localhost:8080/"
        },
        "id": "JRoCa3l0uwwQ",
        "outputId": "c55c3c51-6ced-420c-d07e-87b94529b38f"
      },
      "execution_count": 10,
      "outputs": [
        {
          "output_type": "stream",
          "name": "stdout",
          "text": [
            "<class 'pandas.core.frame.DataFrame'>\n",
            "RangeIndex: 1186 entries, 0 to 1185\n",
            "Data columns (total 7 columns):\n",
            " #   Column          Non-Null Count  Dtype \n",
            "---  ------          --------------  ----- \n",
            " 0   Empresa         1186 non-null   object\n",
            " 1   Valor($)        1186 non-null   object\n",
            " 2   Data de Adesão  1186 non-null   object\n",
            " 3   Pais            1186 non-null   object\n",
            " 4   City            1186 non-null   object\n",
            " 5   Setor           1186 non-null   object\n",
            " 6   Investidores    1168 non-null   object\n",
            "dtypes: object(7)\n",
            "memory usage: 65.0+ KB\n"
          ]
        }
      ]
    },
    {
      "cell_type": "markdown",
      "source": [
        "Repare que a *texto em itálico*"
      ],
      "metadata": {
        "id": "-7g3b_LAyb3m"
      }
    },
    {
      "cell_type": "code",
      "source": [
        "# Campos nulos\n",
        "base_dados.isnull().sum()"
      ],
      "metadata": {
        "colab": {
          "base_uri": "https://localhost:8080/"
        },
        "id": "odYCPABjuwre",
        "outputId": "142b4a36-6081-4b40-f3ae-1088204123d8"
      },
      "execution_count": 11,
      "outputs": [
        {
          "output_type": "execute_result",
          "data": {
            "text/plain": [
              "Empresa            0\n",
              "Valor($)           0\n",
              "Data de Adesão     0\n",
              "Pais               0\n",
              "City               0\n",
              "Setor              0\n",
              "Investidores      18\n",
              "dtype: int64"
            ]
          },
          "metadata": {},
          "execution_count": 11
        }
      ]
    },
    {
      "cell_type": "code",
      "source": [
        "# Gráfico\n",
        "plt.figure( figsize=(15,6)) # Ajusta tamanho da figura\n",
        "plt.title('Analisando Campos Nulos') # Altera título\n",
        "sns.heatmap(base_dados.isnull(), cbar =False); # Printa heatmap expondo quais colunas tiveram nulos\n"
      ],
      "metadata": {
        "colab": {
          "base_uri": "https://localhost:8080/",
          "height": 390
        },
        "id": "-C06UWt4zWu_",
        "outputId": "48d8d62f-63fc-4539-cfc3-425e23991523"
      },
      "execution_count": 12,
      "outputs": [
        {
          "output_type": "display_data",
          "data": {
            "text/plain": [
              "<Figure size 1080x432 with 1 Axes>"
            ],
            "image/png": "[encoded data removed]"
          },
          "metadata": {
            "needs_background": "light"
          }
        }
      ]
    },
    {
      "cell_type": "code",
      "source": [
        "# Campos únicos\n",
        "base_dados.nunique()"
      ],
      "metadata": {
        "id": "3GQKqpxa1Hlq",
        "colab": {
          "base_uri": "https://localhost:8080/"
        },
        "outputId": "0d2dead2-9297-446e-dc37-6a1473a3fe46"
      },
      "execution_count": 13,
      "outputs": [
        {
          "output_type": "execute_result",
          "data": {
            "text/plain": [
              "Empresa           1183\n",
              "Valor($)           222\n",
              "Data de Adesão     695\n",
              "Pais                48\n",
              "City               286\n",
              "Setor               34\n",
              "Investidores      1152\n",
              "dtype: int64"
            ]
          },
          "metadata": {},
          "execution_count": 13
        }
      ]
    },
    {
      "cell_type": "code",
      "source": [
        "# Valores únicos\n",
        "base_dados['Setor'].unique()"
      ],
      "metadata": {
        "id": "eahMhxMx1Hhv",
        "colab": {
          "base_uri": "https://localhost:8080/"
        },
        "outputId": "f79c34dc-bac9-4d3e-f744-02e420eefa31"
      },
      "execution_count": 14,
      "outputs": [
        {
          "output_type": "execute_result",
          "data": {
            "text/plain": [
              "array(['Artificial intelligence', 'Other',\n",
              "       'E-commerce & direct-to-consumer', 'Fintech',\n",
              "       'Internet software & services',\n",
              "       'Supply chain, logistics, & delivery',\n",
              "       'Data management & analytics',\n",
              "       'Sequoia Capital, Thoma Bravo, Softbank', 'Edtech', 'Hardware',\n",
              "       'Consumer & retail', 'Health', 'Auto & transportation',\n",
              "       'Cybersecurity', 'Mobile & telecommunications', 'Travel',\n",
              "       'Kuang-Chi',\n",
              "       'Tiger Global Management, Tiger Brokers, DCM Ventures',\n",
              "       'Jungle Ventures, Accel, Venture Highway',\n",
              "       'Artificial Intelligence', 'GIC. Apis Partners, Insight Partners',\n",
              "       'Vision Plus Capital, GSR Ventures, ZhenFund',\n",
              "       'Hopu Investment Management, Boyu Capital, DC Thomson Ventures',\n",
              "       'Internet', '500 Global, Rakuten Ventures, Golden Gate Ventures',\n",
              "       'Sequoia Capital China, ING, Alibaba Entrepreneurs Fund',\n",
              "       'Sequoia Capital China, Shunwei Capital Partners, Qualgro',\n",
              "       'Dragonfly Captial, Qiming Venture Partners, DST Global',\n",
              "       'SingTel Innov8, Alpha JWC Ventures, Golden Gate Ventures',\n",
              "       'Mundi Ventures, Doqling Capital Partners, Activant Capital',\n",
              "       'Vertex Ventures SE Asia, Global Founders Capital, Visa Ventures',\n",
              "       'Andreessen Horowitz, DST Global, IDG Capital',\n",
              "       \"B Capital Group, Monk's Hill Ventures, Dynamic Parcel Distribution\",\n",
              "       'Temasek, Guggenheim Investments, Qatar Investment Authority'],\n",
              "      dtype=object)"
            ]
          },
          "metadata": {},
          "execution_count": 14
        }
      ]
    },
    {
      "cell_type": "code",
      "source": [
        "# Valores únicos - Rank\n",
        "base_dados['Setor'].value_counts()"
      ],
      "metadata": {
        "id": "xbTpV7Qm1He_",
        "colab": {
          "base_uri": "https://localhost:8080/"
        },
        "outputId": "93c1f0f2-15d5-43a4-d171-09569dbd5546"
      },
      "execution_count": 15,
      "outputs": [
        {
          "output_type": "execute_result",
          "data": {
            "text/plain": [
              "Fintech                                                               239\n",
              "Internet software & services                                          224\n",
              "E-commerce & direct-to-consumer                                       103\n",
              "Health                                                                 94\n",
              "Artificial intelligence                                                74\n",
              "Supply chain, logistics, & delivery                                    65\n",
              "Other                                                                  65\n",
              "Cybersecurity                                                          58\n",
              "Data management & analytics                                            45\n",
              "Auto & transportation                                                  40\n",
              "Hardware                                                               38\n",
              "Mobile & telecommunications                                            37\n",
              "Edtech                                                                 32\n",
              "Consumer & retail                                                      28\n",
              "Travel                                                                 14\n",
              "Artificial Intelligence                                                11\n",
              "Internet                                                                2\n",
              "Sequoia Capital China, ING, Alibaba Entrepreneurs Fund                  1\n",
              "Andreessen Horowitz, DST Global, IDG Capital                            1\n",
              "B Capital Group, Monk's Hill Ventures, Dynamic Parcel Distribution      1\n",
              "Vertex Ventures SE Asia, Global Founders Capital, Visa Ventures         1\n",
              "Mundi Ventures, Doqling Capital Partners, Activant Capital              1\n",
              "SingTel Innov8, Alpha JWC Ventures, Golden Gate Ventures                1\n",
              "Dragonfly Captial, Qiming Venture Partners, DST Global                  1\n",
              "Sequoia Capital China, Shunwei Capital Partners, Qualgro                1\n",
              "Tiger Global Management, Tiger Brokers, DCM Ventures                    1\n",
              "500 Global, Rakuten Ventures, Golden Gate Ventures                      1\n",
              "Hopu Investment Management, Boyu Capital, DC Thomson Ventures           1\n",
              "Vision Plus Capital, GSR Ventures, ZhenFund                             1\n",
              "GIC. Apis Partners, Insight Partners                                    1\n",
              "Jungle Ventures, Accel, Venture Highway                                 1\n",
              "Kuang-Chi                                                               1\n",
              "Sequoia Capital, Thoma Bravo, Softbank                                  1\n",
              "Temasek, Guggenheim Investments, Qatar Investment Authority             1\n",
              "Name: Setor, dtype: int64"
            ]
          },
          "metadata": {},
          "execution_count": 15
        }
      ]
    },
    {
      "cell_type": "code",
      "source": [
        "# Valores únicos - Rank\n",
        "## Neste caso, será para obter a %\n",
        "base_dados['Setor'].value_counts(normalize=True)"
      ],
      "metadata": {
        "id": "z2D0IHWT1HcQ",
        "colab": {
          "base_uri": "https://localhost:8080/"
        },
        "outputId": "b86fc1a3-a4bc-4fb9-dd4b-c6b4381539cd"
      },
      "execution_count": 16,
      "outputs": [
        {
          "output_type": "execute_result",
          "data": {
            "text/plain": [
              "Fintech                                                               0.201518\n",
              "Internet software & services                                          0.188870\n",
              "E-commerce & direct-to-consumer                                       0.086847\n",
              "Health                                                                0.079258\n",
              "Artificial intelligence                                               0.062395\n",
              "Supply chain, logistics, & delivery                                   0.054806\n",
              "Other                                                                 0.054806\n",
              "Cybersecurity                                                         0.048904\n",
              "Data management & analytics                                           0.037943\n",
              "Auto & transportation                                                 0.033727\n",
              "Hardware                                                              0.032040\n",
              "Mobile & telecommunications                                           0.031197\n",
              "Edtech                                                                0.026981\n",
              "Consumer & retail                                                     0.023609\n",
              "Travel                                                                0.011804\n",
              "Artificial Intelligence                                               0.009275\n",
              "Internet                                                              0.001686\n",
              "Sequoia Capital China, ING, Alibaba Entrepreneurs Fund                0.000843\n",
              "Andreessen Horowitz, DST Global, IDG Capital                          0.000843\n",
              "B Capital Group, Monk's Hill Ventures, Dynamic Parcel Distribution    0.000843\n",
              "Vertex Ventures SE Asia, Global Founders Capital, Visa Ventures       0.000843\n",
              "Mundi Ventures, Doqling Capital Partners, Activant Capital            0.000843\n",
              "SingTel Innov8, Alpha JWC Ventures, Golden Gate Ventures              0.000843\n",
              "Dragonfly Captial, Qiming Venture Partners, DST Global                0.000843\n",
              "Sequoia Capital China, Shunwei Capital Partners, Qualgro              0.000843\n",
              "Tiger Global Management, Tiger Brokers, DCM Ventures                  0.000843\n",
              "500 Global, Rakuten Ventures, Golden Gate Ventures                    0.000843\n",
              "Hopu Investment Management, Boyu Capital, DC Thomson Ventures         0.000843\n",
              "Vision Plus Capital, GSR Ventures, ZhenFund                           0.000843\n",
              "GIC. Apis Partners, Insight Partners                                  0.000843\n",
              "Jungle Ventures, Accel, Venture Highway                               0.000843\n",
              "Kuang-Chi                                                             0.000843\n",
              "Sequoia Capital, Thoma Bravo, Softbank                                0.000843\n",
              "Temasek, Guggenheim Investments, Qatar Investment Authority           0.000843\n",
              "Name: Setor, dtype: float64"
            ]
          },
          "metadata": {},
          "execution_count": 16
        }
      ]
    },
    {
      "cell_type": "code",
      "source": [
        "counts = base_dados['Setor'].value_counts()"
      ],
      "metadata": {
        "id": "M5Sh2U3wVsrY"
      },
      "execution_count": 17,
      "outputs": []
    },
    {
      "cell_type": "code",
      "source": [
        "counts_17 = counts.head(17)"
      ],
      "metadata": {
        "id": "sebK5NDcV0fI"
      },
      "execution_count": 18,
      "outputs": []
    },
    {
      "cell_type": "code",
      "source": [
        "plt.figure(figsize=(15,6))\n",
        "plt.title('Análise dos Setores')\n",
        "plt.bar(counts_17.index, counts_17)\n",
        "plt.xticks(rotation=45, ha='right');"
      ],
      "metadata": {
        "id": "NAdFpQkC1HVx",
        "colab": {
          "base_uri": "https://localhost:8080/",
          "height": 508
        },
        "outputId": "c3405293-b3b2-4669-e333-fc4824e25631"
      },
      "execution_count": 19,
      "outputs": [
        {
          "output_type": "display_data",
          "data": {
            "text/plain": [
              "<Figure size 1080x432 with 1 Axes>"
            ],
            "image/png": "[encoded data removed]"
          },
          "metadata": {
            "needs_background": "light"
          }
        }
      ]
    },
    {
      "cell_type": "code",
      "source": [
        "Analise = round(base_dados['Pais'].value_counts(normalize=True)*100)"
      ],
      "metadata": {
        "id": "ExRoqSIv4DWk"
      },
      "execution_count": 20,
      "outputs": []
    },
    {
      "cell_type": "code",
      "source": [
        "Analise_nao_nulos = Analise[Analise != 0.0] #Remoção dos valores em branco\n",
        "Analise_nao_nulos"
      ],
      "metadata": {
        "colab": {
          "base_uri": "https://localhost:8080/"
        },
        "id": "r8bDZ7_zhY6n",
        "outputId": "7e857265-668d-4a1e-8fee-d6b2d29cd5e2"
      },
      "execution_count": 21,
      "outputs": [
        {
          "output_type": "execute_result",
          "data": {
            "text/plain": [
              "United States     54.0\n",
              "China             15.0\n",
              "India              6.0\n",
              "United Kingdom     4.0\n",
              "Germany            2.0\n",
              "France             2.0\n",
              "Israel             2.0\n",
              "Canada             2.0\n",
              "Brazil             1.0\n",
              "South Korea        1.0\n",
              "Singapore          1.0\n",
              "Sweden             1.0\n",
              "Mexico             1.0\n",
              "Australia          1.0\n",
              "Indonesia          1.0\n",
              "Netherlands        1.0\n",
              "Hong Kong          1.0\n",
              "Ireland            1.0\n",
              "Japan              1.0\n",
              "Switzerland        1.0\n",
              "Name: Pais, dtype: float64"
            ]
          },
          "metadata": {},
          "execution_count": 21
        }
      ]
    },
    {
      "cell_type": "code",
      "source": [
        "plt.figure(figsize=(15,6))\n",
        "plt.title('Análise dos Países Geradores de \"Unicórnios\"')\n",
        "plt.pie(\n",
        "    Analise_nao_nulos[:7],\n",
        "    labels=Analise_nao_nulos.index[:7],\n",
        "    startangle=90,\n",
        "    autopct='%1.1f%%',\n",
        "    textprops={'rotation': 30}\n",
        ");"
      ],
      "metadata": {
        "colab": {
          "base_uri": "https://localhost:8080/",
          "height": 373
        },
        "id": "JWP_k5ZrifKh",
        "outputId": "f71bdb0b-1548-476b-9f9f-98e9d148b7d3"
      },
      "execution_count": 22,
      "outputs": [
        {
          "output_type": "display_data",
          "data": {
            "text/plain": [
              "<Figure size 1080x432 with 1 Axes>"
            ],
            "image/png": "[encoded data removed]"
          },
          "metadata": {}
        }
      ]
    },
    {
      "cell_type": "code",
      "source": [
        "# Conversão para Data\n",
        "base_dados['Data de Adesão'] = pd.to_datetime(base_dados['Data de Adesão'])\n",
        "\n",
        "base_dados ['Data de Adesão'].head()"
      ],
      "metadata": {
        "id": "k1cC0qb8m-au",
        "colab": {
          "base_uri": "https://localhost:8080/"
        },
        "outputId": "117a9bc0-1895-4971-c705-c9b0d623aaeb"
      },
      "execution_count": 23,
      "outputs": [
        {
          "output_type": "execute_result",
          "data": {
            "text/plain": [
              "0   2017-04-07\n",
              "1   2012-12-01\n",
              "2   2018-07-03\n",
              "3   2014-01-23\n",
              "4   2018-01-08\n",
              "Name: Data de Adesão, dtype: datetime64[ns]"
            ]
          },
          "metadata": {},
          "execution_count": 23
        }
      ]
    },
    {
      "cell_type": "code",
      "source": [
        "#Extrair o Ano e Mes\n",
        "base_dados['Mes'] = pd.DatetimeIndex(base_dados['Data de Adesão']).month\n",
        "base_dados['Ano'] = pd.DatetimeIndex(base_dados['Data de Adesão']).year\n",
        "\n",
        "base_dados.head()"
      ],
      "metadata": {
        "id": "SoBh_MOOm-X6",
        "colab": {
          "base_uri": "https://localhost:8080/",
          "height": 206
        },
        "outputId": "8e12cfde-116f-4dfe-9568-665fd34105af"
      },
      "execution_count": 24,
      "outputs": [
        {
          "output_type": "execute_result",
          "data": {
            "text/plain": [
              "     Empresa Valor($) Data de Adesão           Pais          City   \\\n",
              "0  ByteDance     $140     2017-04-07          China        Beijing   \n",
              "1     SpaceX     $127     2012-12-01  United States      Hawthorne   \n",
              "2      SHEIN     $100     2018-07-03          China       Shenzhen   \n",
              "3     Stripe      $95     2014-01-23  United States  San Francisco   \n",
              "4      Canva      $40     2018-01-08      Australia    Surry Hills   \n",
              "\n",
              "                             Setor  \\\n",
              "0          Artificial intelligence   \n",
              "1                            Other   \n",
              "2  E-commerce & direct-to-consumer   \n",
              "3                          Fintech   \n",
              "4     Internet software & services   \n",
              "\n",
              "                                        Investidores  Mes   Ano  \n",
              "0  Sequoia Capital China, SIG Asia Investments, S...    4  2017  \n",
              "1  Founders Fund, Draper Fisher Jurvetson, Rothen...   12  2012  \n",
              "2  Tiger Global Management, Sequoia Capital China...    7  2018  \n",
              "3        Khosla Ventures, LowercaseCapital, capitalG    1  2014  \n",
              "4  Sequoia Capital China, Blackbird Ventures, Mat...    1  2018  "
            ],
            "text/html": [
              "\n",
              "  <div id=\"df-2c4df58e-88e5-40e1-b839-b0f1a506187a\">\n",
              "    <div class=\"colab-df-container\">\n",
              "      <div>\n",
              "<style scoped>\n",
              "    .dataframe tbody tr th:only-of-type {\n",
              "        vertical-align: middle;\n",
              "    }\n",
              "\n",
              "    .dataframe tbody tr th {\n",
              "        vertical-align: top;\n",
              "    }\n",
              "\n",
              "    .dataframe thead th {\n",
              "        text-align: right;\n",
              "    }\n",
              "</style>\n",
              "<table border=\"1\" class=\"dataframe\">\n",
              "  <thead>\n",
              "    <tr style=\"text-align: right;\">\n",
              "      <th></th>\n",
              "      <th>Empresa</th>\n",
              "      <th>Valor($)</th>\n",
              "      <th>Data de Adesão</th>\n",
              "      <th>Pais</th>\n",
              "      <th>City</th>\n",
              "      <th>Setor</th>\n",
              "      <th>Investidores</th>\n",
              "      <th>Mes</th>\n",
              "      <th>Ano</th>\n",
              "    </tr>\n",
              "  </thead>\n",
              "  <tbody>\n",
              "    <tr>\n",
              "      <th>0</th>\n",
              "      <td>ByteDance</td>\n",
              "      <td>$140</td>\n",
              "      <td>2017-04-07</td>\n",
              "      <td>China</td>\n",
              "      <td>Beijing</td>\n",
              "      <td>Artificial intelligence</td>\n",
              "      <td>Sequoia Capital China, SIG Asia Investments, S...</td>\n",
              "      <td>4</td>\n",
              "      <td>2017</td>\n",
              "    </tr>\n",
              "    <tr>\n",
              "      <th>1</th>\n",
              "      <td>SpaceX</td>\n",
              "      <td>$127</td>\n",
              "      <td>2012-12-01</td>\n",
              "      <td>United States</td>\n",
              "      <td>Hawthorne</td>\n",
              "      <td>Other</td>\n",
              "      <td>Founders Fund, Draper Fisher Jurvetson, Rothen...</td>\n",
              "      <td>12</td>\n",
              "      <td>2012</td>\n",
              "    </tr>\n",
              "    <tr>\n",
              "      <th>2</th>\n",
              "      <td>SHEIN</td>\n",
              "      <td>$100</td>\n",
              "      <td>2018-07-03</td>\n",
              "      <td>China</td>\n",
              "      <td>Shenzhen</td>\n",
              "      <td>E-commerce &amp; direct-to-consumer</td>\n",
              "      <td>Tiger Global Management, Sequoia Capital China...</td>\n",
              "      <td>7</td>\n",
              "      <td>2018</td>\n",
              "    </tr>\n",
              "    <tr>\n",
              "      <th>3</th>\n",
              "      <td>Stripe</td>\n",
              "      <td>$95</td>\n",
              "      <td>2014-01-23</td>\n",
              "      <td>United States</td>\n",
              "      <td>San Francisco</td>\n",
              "      <td>Fintech</td>\n",
              "      <td>Khosla Ventures, LowercaseCapital, capitalG</td>\n",
              "      <td>1</td>\n",
              "      <td>2014</td>\n",
              "    </tr>\n",
              "    <tr>\n",
              "      <th>4</th>\n",
              "      <td>Canva</td>\n",
              "      <td>$40</td>\n",
              "      <td>2018-01-08</td>\n",
              "      <td>Australia</td>\n",
              "      <td>Surry Hills</td>\n",
              "      <td>Internet software &amp; services</td>\n",
              "      <td>Sequoia Capital China, Blackbird Ventures, Mat...</td>\n",
              "      <td>1</td>\n",
              "      <td>2018</td>\n",
              "    </tr>\n",
              "  </tbody>\n",
              "</table>\n",
              "</div>\n",
              "      <button class=\"colab-df-convert\" onclick=\"convertToInteractive('df-2c4df58e-88e5-40e1-b839-b0f1a506187a')\"\n",
              "              title=\"Convert this dataframe to an interactive table.\"\n",
              "              style=\"display:none;\">\n",
              "        \n",
              "  <svg xmlns=\"http://www.w3.org/2000/svg\" height=\"24px\"viewBox=\"0 0 24 24\"\n",
              "       width=\"24px\">\n",
              "    <path d=\"M0 0h24v24H0V0z\" fill=\"none\"/>\n",
              "    <path d=\"M18.56 5.44l.94 2.06.94-2.06 2.06-.94-2.06-.94-.94-2.06-.94 2.06-2.06.94zm-11 1L8.5 8.5l.94-2.06 2.06-.94-2.06-.94L8.5 2.5l-.94 2.06-2.06.94zm10 10l.94 2.06.94-2.06 2.06-.94-2.06-.94-.94-2.06-.94 2.06-2.06.94z\"/><path d=\"M17.41 7.96l-1.37-1.37c-.4-.4-.92-.59-1.43-.59-.52 0-1.04.2-1.43.59L10.3 9.45l-7.72 7.72c-.78.78-.78 2.05 0 2.83L4 21.41c.39.39.9.59 1.41.59.51 0 1.02-.2 1.41-.59l7.78-7.78 2.81-2.81c.8-.78.8-2.07 0-2.86zM5.41 20L4 18.59l7.72-7.72 1.47 1.35L5.41 20z\"/>\n",
              "  </svg>\n",
              "      </button>\n",
              "      \n",
              "  <style>\n",
              "    .colab-df-container {\n",
              "      display:flex;\n",
              "      flex-wrap:wrap;\n",
              "      gap: 12px;\n",
              "    }\n",
              "\n",
              "    .colab-df-convert {\n",
              "      background-color: #E8F0FE;\n",
              "      border: none;\n",
              "      border-radius: 50%;\n",
              "      cursor: pointer;\n",
              "      display: none;\n",
              "      fill: #1967D2;\n",
              "      height: 32px;\n",
              "      padding: 0 0 0 0;\n",
              "      width: 32px;\n",
              "    }\n",
              "\n",
              "    .colab-df-convert:hover {\n",
              "      background-color: #E2EBFA;\n",
              "      box-shadow: 0px 1px 2px rgba(60, 64, 67, 0.3), 0px 1px 3px 1px rgba(60, 64, 67, 0.15);\n",
              "      fill: #174EA6;\n",
              "    }\n",
              "\n",
              "    [theme=dark] .colab-df-convert {\n",
              "      background-color: #3B4455;\n",
              "      fill: #D2E3FC;\n",
              "    }\n",
              "\n",
              "    [theme=dark] .colab-df-convert:hover {\n",
              "      background-color: #434B5C;\n",
              "      box-shadow: 0px 1px 3px 1px rgba(0, 0, 0, 0.15);\n",
              "      filter: drop-shadow(0px 1px 2px rgba(0, 0, 0, 0.3));\n",
              "      fill: #FFFFFF;\n",
              "    }\n",
              "  </style>\n",
              "\n",
              "      <script>\n",
              "        const buttonEl =\n",
              "          document.querySelector('#df-2c4df58e-88e5-40e1-b839-b0f1a506187a button.colab-df-convert');\n",
              "        buttonEl.style.display =\n",
              "          google.colab.kernel.accessAllowed ? 'block' : 'none';\n",
              "\n",
              "        async function convertToInteractive(key) {\n",
              "          const element = document.querySelector('#df-2c4df58e-88e5-40e1-b839-b0f1a506187a');\n",
              "          const dataTable =\n",
              "            await google.colab.kernel.invokeFunction('convertToInteractive',\n",
              "                                                     [key], {});\n",
              "          if (!dataTable) return;\n",
              "\n",
              "          const docLinkHtml = 'Like what you see? Visit the ' +\n",
              "            '<a target=\"_blank\" href=https://colab.research.google.com/notebooks/data_table.ipynb>data table notebook</a>'\n",
              "            + ' to learn more about interactive tables.';\n",
              "          element.innerHTML = '';\n",
              "          dataTable['output_type'] = 'display_data';\n",
              "          await google.colab.output.renderOutput(dataTable, element);\n",
              "          const docLink = document.createElement('div');\n",
              "          docLink.innerHTML = docLinkHtml;\n",
              "          element.appendChild(docLink);\n",
              "        }\n",
              "      </script>\n",
              "    </div>\n",
              "  </div>\n",
              "  "
            ]
          },
          "metadata": {},
          "execution_count": 24
        }
      ]
    },
    {
      "cell_type": "code",
      "source": [
        "analise_agrupada = base_dados.groupby(by=['Pais', 'Ano', 'Mes']).count()['Investidores'].reset_index\n",
        "analise_agrupada"
      ],
      "metadata": {
        "id": "RjebyxrVm-UJ",
        "colab": {
          "base_uri": "https://localhost:8080/"
        },
        "outputId": "a71466d7-ec7e-4065-fa67-f35543ce7d9a"
      },
      "execution_count": 25,
      "outputs": [
        {
          "output_type": "execute_result",
          "data": {
            "text/plain": [
              "<bound method Series.reset_index of Pais           Ano   Mes\n",
              "Argentina      2021  8       1\n",
              "Australia      2018  1       1\n",
              "               2019  3       1\n",
              "               2021  5       1\n",
              "                     7       2\n",
              "                            ..\n",
              "United States  2022  6      14\n",
              "                     7       4\n",
              "                     8       3\n",
              "Vietnam        2021  10      1\n",
              "                     12      1\n",
              "Name: Investidores, Length: 441, dtype: int64>"
            ]
          },
          "metadata": {},
          "execution_count": 25
        }
      ]
    },
    {
      "cell_type": "code",
      "source": [
        "# Transfformando a coluna valor\n",
        "base_dados['Valor($)'] = pd.to_numeric(base_dados['Valor($)'].apply(lambda Linha: Linha.replace('$', '')))\n",
        "\n",
        "base_dados"
      ],
      "metadata": {
        "id": "s3TJdbo1m-PL",
        "colab": {
          "base_uri": "https://localhost:8080/",
          "height": 607
        },
        "outputId": "83ccca0a-101d-486a-b10f-e41432be5381"
      },
      "execution_count": 26,
      "outputs": [
        {
          "output_type": "execute_result",
          "data": {
            "text/plain": [
              "                  Empresa  Valor($) Data de Adesão           Pais  \\\n",
              "0               ByteDance     140.0     2017-04-07          China   \n",
              "1                  SpaceX     127.0     2012-12-01  United States   \n",
              "2                   SHEIN     100.0     2018-07-03          China   \n",
              "3                  Stripe      95.0     2014-01-23  United States   \n",
              "4                   Canva      40.0     2018-01-08      Australia   \n",
              "...                   ...       ...            ...            ...   \n",
              "1181          LeadSquared       1.0     2022-06-21          India   \n",
              "1182            FourKites       1.0     2022-06-21  United States   \n",
              "1183          VulcanForms       1.0     2022-07-05  United States   \n",
              "1184          SingleStore       1.0     2022-07-12  United States   \n",
              "1185  Unstoppable Domains       1.0     2022-07-27  United States   \n",
              "\n",
              "              City                                 Setor  \\\n",
              "0           Beijing              Artificial intelligence   \n",
              "1         Hawthorne                                Other   \n",
              "2          Shenzhen      E-commerce & direct-to-consumer   \n",
              "3     San Francisco                              Fintech   \n",
              "4       Surry Hills         Internet software & services   \n",
              "...             ...                                  ...   \n",
              "1181      Bengaluru         Internet software & services   \n",
              "1182        Chicago  Supply chain, logistics, & delivery   \n",
              "1183     Burlington  Supply chain, logistics, & delivery   \n",
              "1184  San Francisco          Data management & analytics   \n",
              "1185      Las Vegas         Internet software & services   \n",
              "\n",
              "                                           Investidores  Mes   Ano  \n",
              "0     Sequoia Capital China, SIG Asia Investments, S...    4  2017  \n",
              "1     Founders Fund, Draper Fisher Jurvetson, Rothen...   12  2012  \n",
              "2     Tiger Global Management, Sequoia Capital China...    7  2018  \n",
              "3           Khosla Ventures, LowercaseCapital, capitalG    1  2014  \n",
              "4     Sequoia Capital China, Blackbird Ventures, Mat...    1  2018  \n",
              "...                                                 ...  ...   ...  \n",
              "1181  Gaja Capital Partners, Stakeboat Capital, West...    6  2022  \n",
              "1182  Hyde Park Venture Partners, Bain Capital Ventu...    6  2022  \n",
              "1183  Eclipse Ventures, D1 Capital Partners, Industr...    7  2022  \n",
              "1184            Google Ventures, Accel, Data Collective    7  2022  \n",
              "1185              Boost VC, Draper Associates, Gaingels    7  2022  \n",
              "\n",
              "[1186 rows x 9 columns]"
            ],
            "text/html": [
              "\n",
              "  <div id=\"df-b55b18c7-3648-41c3-b2f9-bb6aa1453997\">\n",
              "    <div class=\"colab-df-container\">\n",
              "      <div>\n",
              "<style scoped>\n",
              "    .dataframe tbody tr th:only-of-type {\n",
              "        vertical-align: middle;\n",
              "    }\n",
              "\n",
              "    .dataframe tbody tr th {\n",
              "        vertical-align: top;\n",
              "    }\n",
              "\n",
              "    .dataframe thead th {\n",
              "        text-align: right;\n",
              "    }\n",
              "</style>\n",
              "<table border=\"1\" class=\"dataframe\">\n",
              "  <thead>\n",
              "    <tr style=\"text-align: right;\">\n",
              "      <th></th>\n",
              "      <th>Empresa</th>\n",
              "      <th>Valor($)</th>\n",
              "      <th>Data de Adesão</th>\n",
              "      <th>Pais</th>\n",
              "      <th>City</th>\n",
              "      <th>Setor</th>\n",
              "      <th>Investidores</th>\n",
              "      <th>Mes</th>\n",
              "      <th>Ano</th>\n",
              "    </tr>\n",
              "  </thead>\n",
              "  <tbody>\n",
              "    <tr>\n",
              "      <th>0</th>\n",
              "      <td>ByteDance</td>\n",
              "      <td>140.0</td>\n",
              "      <td>2017-04-07</td>\n",
              "      <td>China</td>\n",
              "      <td>Beijing</td>\n",
              "      <td>Artificial intelligence</td>\n",
              "      <td>Sequoia Capital China, SIG Asia Investments, S...</td>\n",
              "      <td>4</td>\n",
              "      <td>2017</td>\n",
              "    </tr>\n",
              "    <tr>\n",
              "      <th>1</th>\n",
              "      <td>SpaceX</td>\n",
              "      <td>127.0</td>\n",
              "      <td>2012-12-01</td>\n",
              "      <td>United States</td>\n",
              "      <td>Hawthorne</td>\n",
              "      <td>Other</td>\n",
              "      <td>Founders Fund, Draper Fisher Jurvetson, Rothen...</td>\n",
              "      <td>12</td>\n",
              "      <td>2012</td>\n",
              "    </tr>\n",
              "    <tr>\n",
              "      <th>2</th>\n",
              "      <td>SHEIN</td>\n",
              "      <td>100.0</td>\n",
              "      <td>2018-07-03</td>\n",
              "      <td>China</td>\n",
              "      <td>Shenzhen</td>\n",
              "      <td>E-commerce &amp; direct-to-consumer</td>\n",
              "      <td>Tiger Global Management, Sequoia Capital China...</td>\n",
              "      <td>7</td>\n",
              "      <td>2018</td>\n",
              "    </tr>\n",
              "    <tr>\n",
              "      <th>3</th>\n",
              "      <td>Stripe</td>\n",
              "      <td>95.0</td>\n",
              "      <td>2014-01-23</td>\n",
              "      <td>United States</td>\n",
              "      <td>San Francisco</td>\n",
              "      <td>Fintech</td>\n",
              "      <td>Khosla Ventures, LowercaseCapital, capitalG</td>\n",
              "      <td>1</td>\n",
              "      <td>2014</td>\n",
              "    </tr>\n",
              "    <tr>\n",
              "      <th>4</th>\n",
              "      <td>Canva</td>\n",
              "      <td>40.0</td>\n",
              "      <td>2018-01-08</td>\n",
              "      <td>Australia</td>\n",
              "      <td>Surry Hills</td>\n",
              "      <td>Internet software &amp; services</td>\n",
              "      <td>Sequoia Capital China, Blackbird Ventures, Mat...</td>\n",
              "      <td>1</td>\n",
              "      <td>2018</td>\n",
              "    </tr>\n",
              "    <tr>\n",
              "      <th>...</th>\n",
              "      <td>...</td>\n",
              "      <td>...</td>\n",
              "      <td>...</td>\n",
              "      <td>...</td>\n",
              "      <td>...</td>\n",
              "      <td>...</td>\n",
              "      <td>...</td>\n",
              "      <td>...</td>\n",
              "      <td>...</td>\n",
              "    </tr>\n",
              "    <tr>\n",
              "      <th>1181</th>\n",
              "      <td>LeadSquared</td>\n",
              "      <td>1.0</td>\n",
              "      <td>2022-06-21</td>\n",
              "      <td>India</td>\n",
              "      <td>Bengaluru</td>\n",
              "      <td>Internet software &amp; services</td>\n",
              "      <td>Gaja Capital Partners, Stakeboat Capital, West...</td>\n",
              "      <td>6</td>\n",
              "      <td>2022</td>\n",
              "    </tr>\n",
              "    <tr>\n",
              "      <th>1182</th>\n",
              "      <td>FourKites</td>\n",
              "      <td>1.0</td>\n",
              "      <td>2022-06-21</td>\n",
              "      <td>United States</td>\n",
              "      <td>Chicago</td>\n",
              "      <td>Supply chain, logistics, &amp; delivery</td>\n",
              "      <td>Hyde Park Venture Partners, Bain Capital Ventu...</td>\n",
              "      <td>6</td>\n",
              "      <td>2022</td>\n",
              "    </tr>\n",
              "    <tr>\n",
              "      <th>1183</th>\n",
              "      <td>VulcanForms</td>\n",
              "      <td>1.0</td>\n",
              "      <td>2022-07-05</td>\n",
              "      <td>United States</td>\n",
              "      <td>Burlington</td>\n",
              "      <td>Supply chain, logistics, &amp; delivery</td>\n",
              "      <td>Eclipse Ventures, D1 Capital Partners, Industr...</td>\n",
              "      <td>7</td>\n",
              "      <td>2022</td>\n",
              "    </tr>\n",
              "    <tr>\n",
              "      <th>1184</th>\n",
              "      <td>SingleStore</td>\n",
              "      <td>1.0</td>\n",
              "      <td>2022-07-12</td>\n",
              "      <td>United States</td>\n",
              "      <td>San Francisco</td>\n",
              "      <td>Data management &amp; analytics</td>\n",
              "      <td>Google Ventures, Accel, Data Collective</td>\n",
              "      <td>7</td>\n",
              "      <td>2022</td>\n",
              "    </tr>\n",
              "    <tr>\n",
              "      <th>1185</th>\n",
              "      <td>Unstoppable Domains</td>\n",
              "      <td>1.0</td>\n",
              "      <td>2022-07-27</td>\n",
              "      <td>United States</td>\n",
              "      <td>Las Vegas</td>\n",
              "      <td>Internet software &amp; services</td>\n",
              "      <td>Boost VC, Draper Associates, Gaingels</td>\n",
              "      <td>7</td>\n",
              "      <td>2022</td>\n",
              "    </tr>\n",
              "  </tbody>\n",
              "</table>\n",
              "<p>1186 rows × 9 columns</p>\n",
              "</div>\n",
              "      <button class=\"colab-df-convert\" onclick=\"convertToInteractive('df-b55b18c7-3648-41c3-b2f9-bb6aa1453997')\"\n",
              "              title=\"Convert this dataframe to an interactive table.\"\n",
              "              style=\"display:none;\">\n",
              "        \n",
              "  <svg xmlns=\"http://www.w3.org/2000/svg\" height=\"24px\"viewBox=\"0 0 24 24\"\n",
              "       width=\"24px\">\n",
              "    <path d=\"M0 0h24v24H0V0z\" fill=\"none\"/>\n",
              "    <path d=\"M18.56 5.44l.94 2.06.94-2.06 2.06-.94-2.06-.94-.94-2.06-.94 2.06-2.06.94zm-11 1L8.5 8.5l.94-2.06 2.06-.94-2.06-.94L8.5 2.5l-.94 2.06-2.06.94zm10 10l.94 2.06.94-2.06 2.06-.94-2.06-.94-.94-2.06-.94 2.06-2.06.94z\"/><path d=\"M17.41 7.96l-1.37-1.37c-.4-.4-.92-.59-1.43-.59-.52 0-1.04.2-1.43.59L10.3 9.45l-7.72 7.72c-.78.78-.78 2.05 0 2.83L4 21.41c.39.39.9.59 1.41.59.51 0 1.02-.2 1.41-.59l7.78-7.78 2.81-2.81c.8-.78.8-2.07 0-2.86zM5.41 20L4 18.59l7.72-7.72 1.47 1.35L5.41 20z\"/>\n",
              "  </svg>\n",
              "      </button>\n",
              "      \n",
              "  <style>\n",
              "    .colab-df-container {\n",
              "      display:flex;\n",
              "      flex-wrap:wrap;\n",
              "      gap: 12px;\n",
              "    }\n",
              "\n",
              "    .colab-df-convert {\n",
              "      background-color: #E8F0FE;\n",
              "      border: none;\n",
              "      border-radius: 50%;\n",
              "      cursor: pointer;\n",
              "      display: none;\n",
              "      fill: #1967D2;\n",
              "      height: 32px;\n",
              "      padding: 0 0 0 0;\n",
              "      width: 32px;\n",
              "    }\n",
              "\n",
              "    .colab-df-convert:hover {\n",
              "      background-color: #E2EBFA;\n",
              "      box-shadow: 0px 1px 2px rgba(60, 64, 67, 0.3), 0px 1px 3px 1px rgba(60, 64, 67, 0.15);\n",
              "      fill: #174EA6;\n",
              "    }\n",
              "\n",
              "    [theme=dark] .colab-df-convert {\n",
              "      background-color: #3B4455;\n",
              "      fill: #D2E3FC;\n",
              "    }\n",
              "\n",
              "    [theme=dark] .colab-df-convert:hover {\n",
              "      background-color: #434B5C;\n",
              "      box-shadow: 0px 1px 3px 1px rgba(0, 0, 0, 0.15);\n",
              "      filter: drop-shadow(0px 1px 2px rgba(0, 0, 0, 0.3));\n",
              "      fill: #FFFFFF;\n",
              "    }\n",
              "  </style>\n",
              "\n",
              "      <script>\n",
              "        const buttonEl =\n",
              "          document.querySelector('#df-b55b18c7-3648-41c3-b2f9-bb6aa1453997 button.colab-df-convert');\n",
              "        buttonEl.style.display =\n",
              "          google.colab.kernel.accessAllowed ? 'block' : 'none';\n",
              "\n",
              "        async function convertToInteractive(key) {\n",
              "          const element = document.querySelector('#df-b55b18c7-3648-41c3-b2f9-bb6aa1453997');\n",
              "          const dataTable =\n",
              "            await google.colab.kernel.invokeFunction('convertToInteractive',\n",
              "                                                     [key], {});\n",
              "          if (!dataTable) return;\n",
              "\n",
              "          const docLinkHtml = 'Like what you see? Visit the ' +\n",
              "            '<a target=\"_blank\" href=https://colab.research.google.com/notebooks/data_table.ipynb>data table notebook</a>'\n",
              "            + ' to learn more about interactive tables.';\n",
              "          element.innerHTML = '';\n",
              "          dataTable['output_type'] = 'display_data';\n",
              "          await google.colab.output.renderOutput(dataTable, element);\n",
              "          const docLink = document.createElement('div');\n",
              "          docLink.innerHTML = docLinkHtml;\n",
              "          element.appendChild(docLink);\n",
              "        }\n",
              "      </script>\n",
              "    </div>\n",
              "  </div>\n",
              "  "
            ]
          },
          "metadata": {},
          "execution_count": 26
        }
      ]
    },
    {
      "cell_type": "code",
      "source": [
        "# Tabela Analítica \n",
        "analise_pais = base_dados.groupby(by=['Pais']).sum()['Valor($)'].reset_index()\n"
      ],
      "metadata": {
        "id": "jrbNGlzEm-Mf"
      },
      "execution_count": 41,
      "outputs": []
    },
    {
      "cell_type": "code",
      "source": [
        "analise_valor = analise_pais.sort_values('Valor($)', ascending=False)\n",
        "analise_valor.head()"
      ],
      "metadata": {
        "id": "7-M9FMmDm-KI",
        "colab": {
          "base_uri": "https://localhost:8080/",
          "height": 206
        },
        "outputId": "dd50147c-a2cd-4440-f045-a07246392f44"
      },
      "execution_count": 43,
      "outputs": [
        {
          "output_type": "execute_result",
          "data": {
            "text/plain": [
              "              Pais  Valor($)\n",
              "46   United States   2069.89\n",
              "9            China    678.59\n",
              "45  United Kingdom    205.45\n",
              "20           India    202.92\n",
              "18         Germany     80.88"
            ],
            "text/html": [
              "\n",
              "  <div id=\"df-e8904fdd-5bb4-4190-b597-bf57d82a097f\">\n",
              "    <div class=\"colab-df-container\">\n",
              "      <div>\n",
              "<style scoped>\n",
              "    .dataframe tbody tr th:only-of-type {\n",
              "        vertical-align: middle;\n",
              "    }\n",
              "\n",
              "    .dataframe tbody tr th {\n",
              "        vertical-align: top;\n",
              "    }\n",
              "\n",
              "    .dataframe thead th {\n",
              "        text-align: right;\n",
              "    }\n",
              "</style>\n",
              "<table border=\"1\" class=\"dataframe\">\n",
              "  <thead>\n",
              "    <tr style=\"text-align: right;\">\n",
              "      <th></th>\n",
              "      <th>Pais</th>\n",
              "      <th>Valor($)</th>\n",
              "    </tr>\n",
              "  </thead>\n",
              "  <tbody>\n",
              "    <tr>\n",
              "      <th>46</th>\n",
              "      <td>United States</td>\n",
              "      <td>2069.89</td>\n",
              "    </tr>\n",
              "    <tr>\n",
              "      <th>9</th>\n",
              "      <td>China</td>\n",
              "      <td>678.59</td>\n",
              "    </tr>\n",
              "    <tr>\n",
              "      <th>45</th>\n",
              "      <td>United Kingdom</td>\n",
              "      <td>205.45</td>\n",
              "    </tr>\n",
              "    <tr>\n",
              "      <th>20</th>\n",
              "      <td>India</td>\n",
              "      <td>202.92</td>\n",
              "    </tr>\n",
              "    <tr>\n",
              "      <th>18</th>\n",
              "      <td>Germany</td>\n",
              "      <td>80.88</td>\n",
              "    </tr>\n",
              "  </tbody>\n",
              "</table>\n",
              "</div>\n",
              "      <button class=\"colab-df-convert\" onclick=\"convertToInteractive('df-e8904fdd-5bb4-4190-b597-bf57d82a097f')\"\n",
              "              title=\"Convert this dataframe to an interactive table.\"\n",
              "              style=\"display:none;\">\n",
              "        \n",
              "  <svg xmlns=\"http://www.w3.org/2000/svg\" height=\"24px\"viewBox=\"0 0 24 24\"\n",
              "       width=\"24px\">\n",
              "    <path d=\"M0 0h24v24H0V0z\" fill=\"none\"/>\n",
              "    <path d=\"M18.56 5.44l.94 2.06.94-2.06 2.06-.94-2.06-.94-.94-2.06-.94 2.06-2.06.94zm-11 1L8.5 8.5l.94-2.06 2.06-.94-2.06-.94L8.5 2.5l-.94 2.06-2.06.94zm10 10l.94 2.06.94-2.06 2.06-.94-2.06-.94-.94-2.06-.94 2.06-2.06.94z\"/><path d=\"M17.41 7.96l-1.37-1.37c-.4-.4-.92-.59-1.43-.59-.52 0-1.04.2-1.43.59L10.3 9.45l-7.72 7.72c-.78.78-.78 2.05 0 2.83L4 21.41c.39.39.9.59 1.41.59.51 0 1.02-.2 1.41-.59l7.78-7.78 2.81-2.81c.8-.78.8-2.07 0-2.86zM5.41 20L4 18.59l7.72-7.72 1.47 1.35L5.41 20z\"/>\n",
              "  </svg>\n",
              "      </button>\n",
              "      \n",
              "  <style>\n",
              "    .colab-df-container {\n",
              "      display:flex;\n",
              "      flex-wrap:wrap;\n",
              "      gap: 12px;\n",
              "    }\n",
              "\n",
              "    .colab-df-convert {\n",
              "      background-color: #E8F0FE;\n",
              "      border: none;\n",
              "      border-radius: 50%;\n",
              "      cursor: pointer;\n",
              "      display: none;\n",
              "      fill: #1967D2;\n",
              "      height: 32px;\n",
              "      padding: 0 0 0 0;\n",
              "      width: 32px;\n",
              "    }\n",
              "\n",
              "    .colab-df-convert:hover {\n",
              "      background-color: #E2EBFA;\n",
              "      box-shadow: 0px 1px 2px rgba(60, 64, 67, 0.3), 0px 1px 3px 1px rgba(60, 64, 67, 0.15);\n",
              "      fill: #174EA6;\n",
              "    }\n",
              "\n",
              "    [theme=dark] .colab-df-convert {\n",
              "      background-color: #3B4455;\n",
              "      fill: #D2E3FC;\n",
              "    }\n",
              "\n",
              "    [theme=dark] .colab-df-convert:hover {\n",
              "      background-color: #434B5C;\n",
              "      box-shadow: 0px 1px 3px 1px rgba(0, 0, 0, 0.15);\n",
              "      filter: drop-shadow(0px 1px 2px rgba(0, 0, 0, 0.3));\n",
              "      fill: #FFFFFF;\n",
              "    }\n",
              "  </style>\n",
              "\n",
              "      <script>\n",
              "        const buttonEl =\n",
              "          document.querySelector('#df-e8904fdd-5bb4-4190-b597-bf57d82a097f button.colab-df-convert');\n",
              "        buttonEl.style.display =\n",
              "          google.colab.kernel.accessAllowed ? 'block' : 'none';\n",
              "\n",
              "        async function convertToInteractive(key) {\n",
              "          const element = document.querySelector('#df-e8904fdd-5bb4-4190-b597-bf57d82a097f');\n",
              "          const dataTable =\n",
              "            await google.colab.kernel.invokeFunction('convertToInteractive',\n",
              "                                                     [key], {});\n",
              "          if (!dataTable) return;\n",
              "\n",
              "          const docLinkHtml = 'Like what you see? Visit the ' +\n",
              "            '<a target=\"_blank\" href=https://colab.research.google.com/notebooks/data_table.ipynb>data table notebook</a>'\n",
              "            + ' to learn more about interactive tables.';\n",
              "          element.innerHTML = '';\n",
              "          dataTable['output_type'] = 'display_data';\n",
              "          await google.colab.output.renderOutput(dataTable, element);\n",
              "          const docLink = document.createElement('div');\n",
              "          docLink.innerHTML = docLinkHtml;\n",
              "          element.appendChild(docLink);\n",
              "        }\n",
              "      </script>\n",
              "    </div>\n",
              "  </div>\n",
              "  "
            ]
          },
          "metadata": {},
          "execution_count": 43
        }
      ]
    },
    {
      "cell_type": "code",
      "source": [
        "plt.figure(figsize=(15,6))\n",
        "plt.title('Análise do Valor por País')\n",
        "plt.xticks(rotation=45, ha='right')\n",
        "plt.plot(analise_valor['Pais'], analise_valor['Valor($)']);\n"
      ],
      "metadata": {
        "id": "qwev8w-Em-HP",
        "colab": {
          "base_uri": "https://localhost:8080/",
          "height": 463
        },
        "outputId": "9572467b-b4ee-485d-fabd-278dc67300a0"
      },
      "execution_count": 48,
      "outputs": [
        {
          "output_type": "display_data",
          "data": {
            "text/plain": [
              "<Figure size 1080x432 with 1 Axes>"
            ],
            "image/png": "[encoded data removed]"
          },
          "metadata": {
            "needs_background": "light"
          }
        }
      ]
    }
  ]
}